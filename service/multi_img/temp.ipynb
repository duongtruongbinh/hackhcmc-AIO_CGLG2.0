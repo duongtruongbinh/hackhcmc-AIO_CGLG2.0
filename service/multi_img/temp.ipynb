{
 "cells": [
  {
   "cell_type": "code",
   "execution_count": 6,
   "metadata": {},
   "outputs": [],
   "source": []
  },
  {
   "cell_type": "code",
   "execution_count": null,
   "metadata": {},
   "outputs": [],
   "source": []
  },
  {
   "cell_type": "code",
   "execution_count": 6,
   "metadata": {},
   "outputs": [
    {
     "name": "stdout",
     "output_type": "stream",
     "text": [
      "[{'A': 1, 'B': 4}, {'A': 2, 'B': 5}, {'A': 3, 'B': 6}]\n"
     ]
    }
   ],
   "source": [
    "import pandas as pd \n",
    "temp = pd.DataFrame(\n",
    "    {\n",
    "        'A': [1, 2, 3],\n",
    "        'B': [4, 5, 6]\n",
    "    }\n",
    ")\n",
    "a = temp.to_dict(orient='records')\n",
    "print(a)"
   ]
  },
  {
   "cell_type": "code",
   "execution_count": 1,
   "metadata": {},
   "outputs": [
    {
     "name": "stdout",
     "output_type": "stream",
     "text": [
      "[['Based on the themes of social gatherings and nightlife suggested by your description, here are ten relevant hashtags that could suit the scene:', '', '#SocialGathering', '#Nightlife', '#GoodTimes', '#FriendsNightOut', '#Cheers', '#Celebration', '#FunWithFriends', '#LocalHotspot', '#WeekendVibes', '#CommunityEvent', '', 'Feel free to adjust or mix them to suit the specific context of the image!']]\n",
      "It seems that there is limited specific information provided about the location in the dataset you shared. Here's a structured approach to create a detailed description while ensuring we eliminate duplicates and summarize any relevant insights:\n",
      "\n",
      "---\n",
      "\n",
      "**Location Description:**\n",
      "\n",
      "The location in question appears to be a scene captured in an image, though details about the individuals present, their activities, or any emotions displayed are not accessible. Notably, there are no beer products visible in the image, which suggests that the place may not engage in activities typically associated with alcohol consumption or events linked to alcoholic beverages.\n",
      "\n",
      "Due to the absence of distinctive features or indicators, the overall ambiance of the location cannot be thoroughly assessed. If the location is meant to host social gatherings, parties, or other communal activities, such elements may not be evident from the information provided.\n",
      "\n",
      "For those seeking insights or information about this location or its potential use, additional context or specific inquiries could help in deriving a more comprehensive understanding. Please feel free to share more details or ask about a different aspect if available.\n",
      "\n",
      "--- \n",
      "\n",
      "This description aims to capture the essence of the provided data while being clear and coherent. If there are more specific details about the location that you would like to include, please share!\n"
     ]
    }
   ],
   "source": [
    "import requests\n",
    "import json\n",
    "from ast import literal_eval\n",
    "multi_url = 'http://172.25.212.122:8001/multi_image/'\n",
    "\n",
    "# test response\n",
    "myobj = {\n",
    "  \"img_path\": [\n",
    "    \"ic_service/input.jpg\"\n",
    "  ],\n",
    "  \"options\": [\n",
    "    \"problem1\"\n",
    "  ]\n",
    "}\n",
    "x = requests.post(multi_url, json=myobj)\n",
    "y = json.loads(x.text)\n"
   ]
  },
  {
   "cell_type": "code",
   "execution_count": 11,
   "metadata": {},
   "outputs": [
    {
     "name": "stdout",
     "output_type": "stream",
     "text": [
      "[['Based on the themes of social gatherings and nightlife suggested by your description, here are ten relevant hashtags that could suit the scene:', '', '#SocialGathering', '#Nightlife', '#GoodTimes', '#FriendsNightOut', '#Cheers', '#Celebration', '#FunWithFriends', '#LocalHotspot', '#WeekendVibes', '#CommunityEvent', '', 'Feel free to adjust or mix them to suit the specific context of the image!']]\n",
      "It seems that there is limited specific information provided about the location in the dataset you shared. Here's a structured approach to create a detailed description while ensuring we eliminate duplicates and summarize any relevant insights:\n",
      "\n",
      "---\n",
      "\n",
      "**Location Description:**\n",
      "\n",
      "The location in question appears to be a scene captured in an image, though details about the individuals present, their activities, or any emotions displayed are not accessible. Notably, there are no beer products visible in the image, which suggests that the place may not engage in activities typically associated with alcohol consumption or events linked to alcoholic beverages.\n",
      "\n",
      "Due to the absence of distinctive features or indicators, the overall ambiance of the location cannot be thoroughly assessed. If the location is meant to host social gatherings, parties, or other communal activities, such elements may not be evident from the information provided.\n",
      "\n",
      "For those seeking insights or information about this location or its potential use, additional context or specific inquiries could help in deriving a more comprehensive understanding. Please feel free to share more details or ask about a different aspect if available.\n",
      "\n",
      "--- \n",
      "\n",
      "This description aims to capture the essence of the provided data while being clear and coherent. If there are more specific details about the location that you would like to include, please share!\n"
     ]
    }
   ],
   "source": [
    "from ast import literal_eval\n",
    "scene_hashtag_list, content = literal_eval(y['scene_hashtag_list']), y['content']\n",
    "print(scene_hashtag_list)\n",
    "print(content)"
   ]
  }
 ],
 "metadata": {
  "kernelspec": {
   "display_name": "min_ds-env",
   "language": "python",
   "name": "python3"
  },
  "language_info": {
   "codemirror_mode": {
    "name": "ipython",
    "version": 3
   },
   "file_extension": ".py",
   "mimetype": "text/x-python",
   "name": "python",
   "nbconvert_exporter": "python",
   "pygments_lexer": "ipython3",
   "version": "3.10.14"
  }
 },
 "nbformat": 4,
 "nbformat_minor": 2
}
