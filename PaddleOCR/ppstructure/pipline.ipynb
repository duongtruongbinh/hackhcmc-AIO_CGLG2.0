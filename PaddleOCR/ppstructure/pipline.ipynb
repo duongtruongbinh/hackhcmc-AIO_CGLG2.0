{
 "cells": [
  {
   "cell_type": "code",
   "execution_count": 10,
   "metadata": {},
   "outputs": [
    {
     "ename": "FileNotFoundError",
     "evalue": "[Errno 2] No such file or directory: 'bienhieu'",
     "output_type": "error",
     "traceback": [
      "\u001b[0;31m---------------------------------------------------------------------------\u001b[0m",
      "\u001b[0;31mFileNotFoundError\u001b[0m                         Traceback (most recent call last)",
      "\u001b[1;32m/Users/binhnam/Desktop/hackathon/PaddleOCR/ppstructure/pipline.ipynb Cell 1\u001b[0m line \u001b[0;36m3\n\u001b[1;32m      <a href='vscode-notebook-cell:/Users/binhnam/Desktop/hackathon/PaddleOCR/ppstructure/pipline.ipynb#W0sZmlsZQ%3D%3D?line=0'>1</a>\u001b[0m \u001b[39mimport\u001b[39;00m \u001b[39mos\u001b[39;00m \n\u001b[0;32m----> <a href='vscode-notebook-cell:/Users/binhnam/Desktop/hackathon/PaddleOCR/ppstructure/pipline.ipynb#W0sZmlsZQ%3D%3D?line=2'>3</a>\u001b[0m list_path \u001b[39m=\u001b[39m os\u001b[39m.\u001b[39;49mlistdir(\u001b[39m\"\u001b[39;49m\u001b[39mbienhieu\u001b[39;49m\u001b[39m\"\u001b[39;49m)\n\u001b[1;32m      <a href='vscode-notebook-cell:/Users/binhnam/Desktop/hackathon/PaddleOCR/ppstructure/pipline.ipynb#W0sZmlsZQ%3D%3D?line=3'>4</a>\u001b[0m \u001b[39mprint\u001b[39m(\u001b[39mlen\u001b[39m(list_path))\n\u001b[1;32m      <a href='vscode-notebook-cell:/Users/binhnam/Desktop/hackathon/PaddleOCR/ppstructure/pipline.ipynb#W0sZmlsZQ%3D%3D?line=4'>5</a>\u001b[0m \u001b[39mprint\u001b[39m(list_path[:\u001b[39m3\u001b[39m])\n",
      "\u001b[0;31mFileNotFoundError\u001b[0m: [Errno 2] No such file or directory: 'bienhieu'"
     ]
    }
   ],
   "source": [
    "import os \n",
    "\n",
    "list_path = os.listdir(\"bienhieu\")\n",
    "print(len(list_path))\n",
    "print(list_path[:3])"
   ]
  },
  {
   "cell_type": "code",
   "execution_count": null,
   "metadata": {},
   "outputs": [
    {
     "name": "stderr",
     "output_type": "stream",
     "text": [
      "usage: ipykernel_launcher.py [-h] [--use_gpu USE_GPU] [--use_xpu USE_XPU]\n",
      "                             [--use_npu USE_NPU] [--use_mlu USE_MLU]\n",
      "                             [--ir_optim IR_OPTIM]\n",
      "                             [--use_tensorrt USE_TENSORRT]\n",
      "                             [--min_subgraph_size MIN_SUBGRAPH_SIZE]\n",
      "                             [--precision PRECISION] [--gpu_mem GPU_MEM]\n",
      "                             [--gpu_id GPU_ID] [--image_dir IMAGE_DIR]\n",
      "                             [--page_num PAGE_NUM]\n",
      "                             [--det_algorithm DET_ALGORITHM]\n",
      "                             [--det_model_dir DET_MODEL_DIR]\n",
      "                             [--det_limit_side_len DET_LIMIT_SIDE_LEN]\n",
      "                             [--det_limit_type DET_LIMIT_TYPE]\n",
      "                             [--det_box_type DET_BOX_TYPE]\n",
      "                             [--det_db_thresh DET_DB_THRESH]\n",
      "                             [--det_db_box_thresh DET_DB_BOX_THRESH]\n",
      "                             [--det_db_unclip_ratio DET_DB_UNCLIP_RATIO]\n",
      "                             [--max_batch_size MAX_BATCH_SIZE]\n",
      "                             [--use_dilation USE_DILATION]\n",
      "                             [--det_db_score_mode DET_DB_SCORE_MODE]\n",
      "                             [--det_east_score_thresh DET_EAST_SCORE_THRESH]\n",
      "                             [--det_east_cover_thresh DET_EAST_COVER_THRESH]\n",
      "                             [--det_east_nms_thresh DET_EAST_NMS_THRESH]\n",
      "                             [--det_sast_score_thresh DET_SAST_SCORE_THRESH]\n",
      "                             [--det_sast_nms_thresh DET_SAST_NMS_THRESH]\n",
      "                             [--det_pse_thresh DET_PSE_THRESH]\n",
      "                             [--det_pse_box_thresh DET_PSE_BOX_THRESH]\n",
      "                             [--det_pse_min_area DET_PSE_MIN_AREA]\n",
      "                             [--det_pse_scale DET_PSE_SCALE] [--scales SCALES]\n",
      "                             [--alpha ALPHA] [--beta BETA]\n",
      "                             [--fourier_degree FOURIER_DEGREE]\n",
      "                             [--rec_algorithm REC_ALGORITHM]\n",
      "                             [--rec_model_dir REC_MODEL_DIR]\n",
      "                             [--rec_image_inverse REC_IMAGE_INVERSE]\n",
      "                             [--rec_image_shape REC_IMAGE_SHAPE]\n",
      "                             [--rec_batch_num REC_BATCH_NUM]\n",
      "                             [--max_text_length MAX_TEXT_LENGTH]\n",
      "                             [--rec_char_dict_path REC_CHAR_DICT_PATH]\n",
      "                             [--use_space_char USE_SPACE_CHAR]\n",
      "                             [--vis_font_path VIS_FONT_PATH]\n",
      "                             [--drop_score DROP_SCORE]\n",
      "                             [--e2e_algorithm E2E_ALGORITHM]\n",
      "                             [--e2e_model_dir E2E_MODEL_DIR]\n",
      "                             [--e2e_limit_side_len E2E_LIMIT_SIDE_LEN]\n",
      "                             [--e2e_limit_type E2E_LIMIT_TYPE]\n",
      "                             [--e2e_pgnet_score_thresh E2E_PGNET_SCORE_THRESH]\n",
      "                             [--e2e_char_dict_path E2E_CHAR_DICT_PATH]\n",
      "                             [--e2e_pgnet_valid_set E2E_PGNET_VALID_SET]\n",
      "                             [--e2e_pgnet_mode E2E_PGNET_MODE]\n",
      "                             [--use_angle_cls USE_ANGLE_CLS]\n",
      "                             [--cls_model_dir CLS_MODEL_DIR]\n",
      "                             [--cls_image_shape CLS_IMAGE_SHAPE]\n",
      "                             [--label_list LABEL_LIST]\n",
      "                             [--cls_batch_num CLS_BATCH_NUM]\n",
      "                             [--cls_thresh CLS_THRESH]\n",
      "                             [--enable_mkldnn ENABLE_MKLDNN]\n",
      "                             [--cpu_threads CPU_THREADS]\n",
      "                             [--use_pdserving USE_PDSERVING] [--warmup WARMUP]\n",
      "                             [--sr_model_dir SR_MODEL_DIR]\n",
      "                             [--sr_image_shape SR_IMAGE_SHAPE]\n",
      "                             [--sr_batch_num SR_BATCH_NUM]\n",
      "                             [--draw_img_save_dir DRAW_IMG_SAVE_DIR]\n",
      "                             [--save_crop_res SAVE_CROP_RES]\n",
      "                             [--crop_res_save_dir CROP_RES_SAVE_DIR]\n",
      "                             [--use_mp USE_MP]\n",
      "                             [--total_process_num TOTAL_PROCESS_NUM]\n",
      "                             [--process_id PROCESS_ID] [--benchmark BENCHMARK]\n",
      "                             [--save_log_path SAVE_LOG_PATH]\n",
      "                             [--show_log SHOW_LOG] [--use_onnx USE_ONNX]\n",
      "                             [--return_word_box RETURN_WORD_BOX]\n",
      "                             [--output OUTPUT] [--table_max_len TABLE_MAX_LEN]\n",
      "                             [--table_algorithm TABLE_ALGORITHM]\n",
      "                             [--table_model_dir TABLE_MODEL_DIR]\n",
      "                             [--merge_no_span_structure MERGE_NO_SPAN_STRUCTURE]\n",
      "                             [--table_char_dict_path TABLE_CHAR_DICT_PATH]\n",
      "                             [--layout_model_dir LAYOUT_MODEL_DIR]\n",
      "                             [--layout_dict_path LAYOUT_DICT_PATH]\n",
      "                             [--layout_score_threshold LAYOUT_SCORE_THRESHOLD]\n",
      "                             [--layout_nms_threshold LAYOUT_NMS_THRESHOLD]\n",
      "                             [--kie_algorithm KIE_ALGORITHM]\n",
      "                             [--ser_model_dir SER_MODEL_DIR]\n",
      "                             [--re_model_dir RE_MODEL_DIR]\n",
      "                             [--use_visual_backbone USE_VISUAL_BACKBONE]\n",
      "                             [--ser_dict_path SER_DICT_PATH]\n",
      "                             [--ocr_order_method OCR_ORDER_METHOD]\n",
      "                             [--mode {structure,kie}]\n",
      "                             [--image_orientation IMAGE_ORIENTATION]\n",
      "                             [--layout LAYOUT] [--table TABLE] [--ocr OCR]\n",
      "                             [--recovery RECOVERY]\n",
      "                             [--use_pdf2docx_api USE_PDF2DOCX_API]\n",
      "                             [--invert INVERT] [--binarize BINARIZE]\n",
      "                             [--alphacolor ALPHACOLOR]\n",
      "ipykernel_launcher.py: error: argument --fourier_degree: invalid int value: '/Users/binhnam/Library/Jupyter/runtime/kernel-v2-1074UGOPhUFUuQTT.json'\n"
     ]
    },
    {
     "ename": "AttributeError",
     "evalue": "'tuple' object has no attribute 'tb_frame'",
     "output_type": "error",
     "traceback": [
      "\u001b[0;31m---------------------------------------------------------------------------\u001b[0m",
      "\u001b[0;31mValueError\u001b[0m                                Traceback (most recent call last)",
      "File \u001b[0;32m~/Applications/anaconda3/envs/hackathon/lib/python3.10/argparse.py:2495\u001b[0m, in \u001b[0;36mArgumentParser._get_value\u001b[0;34m(self, action, arg_string)\u001b[0m\n\u001b[1;32m   2494\u001b[0m \u001b[39mtry\u001b[39;00m:\n\u001b[0;32m-> 2495\u001b[0m     result \u001b[39m=\u001b[39m type_func(arg_string)\n\u001b[1;32m   2497\u001b[0m \u001b[39m# ArgumentTypeErrors indicate errors\u001b[39;00m\n",
      "\u001b[0;31mValueError\u001b[0m: invalid literal for int() with base 10: '/Users/binhnam/Library/Jupyter/runtime/kernel-v2-1074UGOPhUFUuQTT.json'",
      "\nDuring handling of the above exception, another exception occurred:\n",
      "\u001b[0;31mArgumentError\u001b[0m                             Traceback (most recent call last)",
      "File \u001b[0;32m~/Applications/anaconda3/envs/hackathon/lib/python3.10/argparse.py:1866\u001b[0m, in \u001b[0;36mArgumentParser.parse_known_args\u001b[0;34m(self, args, namespace)\u001b[0m\n\u001b[1;32m   1865\u001b[0m \u001b[39mtry\u001b[39;00m:\n\u001b[0;32m-> 1866\u001b[0m     namespace, args \u001b[39m=\u001b[39m \u001b[39mself\u001b[39;49m\u001b[39m.\u001b[39;49m_parse_known_args(args, namespace)\n\u001b[1;32m   1867\u001b[0m \u001b[39mexcept\u001b[39;00m ArgumentError:\n",
      "File \u001b[0;32m~/Applications/anaconda3/envs/hackathon/lib/python3.10/argparse.py:2079\u001b[0m, in \u001b[0;36mArgumentParser._parse_known_args\u001b[0;34m(self, arg_strings, namespace)\u001b[0m\n\u001b[1;32m   2078\u001b[0m     \u001b[39m# consume the next optional and any arguments for it\u001b[39;00m\n\u001b[0;32m-> 2079\u001b[0m     start_index \u001b[39m=\u001b[39m consume_optional(start_index)\n\u001b[1;32m   2081\u001b[0m \u001b[39m# consume any positionals following the last Optional\u001b[39;00m\n",
      "File \u001b[0;32m~/Applications/anaconda3/envs/hackathon/lib/python3.10/argparse.py:2019\u001b[0m, in \u001b[0;36mArgumentParser._parse_known_args.<locals>.consume_optional\u001b[0;34m(start_index)\u001b[0m\n\u001b[1;32m   2018\u001b[0m \u001b[39mfor\u001b[39;00m action, args, option_string \u001b[39min\u001b[39;00m action_tuples:\n\u001b[0;32m-> 2019\u001b[0m     take_action(action, args, option_string)\n\u001b[1;32m   2020\u001b[0m \u001b[39mreturn\u001b[39;00m stop\n",
      "File \u001b[0;32m~/Applications/anaconda3/envs/hackathon/lib/python3.10/argparse.py:1927\u001b[0m, in \u001b[0;36mArgumentParser._parse_known_args.<locals>.take_action\u001b[0;34m(action, argument_strings, option_string)\u001b[0m\n\u001b[1;32m   1926\u001b[0m seen_actions\u001b[39m.\u001b[39madd(action)\n\u001b[0;32m-> 1927\u001b[0m argument_values \u001b[39m=\u001b[39m \u001b[39mself\u001b[39;49m\u001b[39m.\u001b[39;49m_get_values(action, argument_strings)\n\u001b[1;32m   1929\u001b[0m \u001b[39m# error if this argument is not allowed with other previously\u001b[39;00m\n\u001b[1;32m   1930\u001b[0m \u001b[39m# seen arguments, assuming that actions that use the default\u001b[39;00m\n\u001b[1;32m   1931\u001b[0m \u001b[39m# value don't really count as \"present\"\u001b[39;00m\n",
      "File \u001b[0;32m~/Applications/anaconda3/envs/hackathon/lib/python3.10/argparse.py:2462\u001b[0m, in \u001b[0;36mArgumentParser._get_values\u001b[0;34m(self, action, arg_strings)\u001b[0m\n\u001b[1;32m   2461\u001b[0m arg_string, \u001b[39m=\u001b[39m arg_strings\n\u001b[0;32m-> 2462\u001b[0m value \u001b[39m=\u001b[39m \u001b[39mself\u001b[39;49m\u001b[39m.\u001b[39;49m_get_value(action, arg_string)\n\u001b[1;32m   2463\u001b[0m \u001b[39mself\u001b[39m\u001b[39m.\u001b[39m_check_value(action, value)\n",
      "File \u001b[0;32m~/Applications/anaconda3/envs/hackathon/lib/python3.10/argparse.py:2508\u001b[0m, in \u001b[0;36mArgumentParser._get_value\u001b[0;34m(self, action, arg_string)\u001b[0m\n\u001b[1;32m   2507\u001b[0m     msg \u001b[39m=\u001b[39m _(\u001b[39m'\u001b[39m\u001b[39minvalid \u001b[39m\u001b[39m%(type)s\u001b[39;00m\u001b[39m value: \u001b[39m\u001b[39m%(value)r\u001b[39;00m\u001b[39m'\u001b[39m)\n\u001b[0;32m-> 2508\u001b[0m     \u001b[39mraise\u001b[39;00m ArgumentError(action, msg \u001b[39m%\u001b[39m args)\n\u001b[1;32m   2510\u001b[0m \u001b[39m# return the converted value\u001b[39;00m\n",
      "\u001b[0;31mArgumentError\u001b[0m: argument --fourier_degree: invalid int value: '/Users/binhnam/Library/Jupyter/runtime/kernel-v2-1074UGOPhUFUuQTT.json'",
      "\nDuring handling of the above exception, another exception occurred:\n",
      "\u001b[0;31mSystemExit\u001b[0m                                Traceback (most recent call last)",
      "    \u001b[0;31m[... skipping hidden 1 frame]\u001b[0m\n",
      "\u001b[1;32m/Users/binhnam/Desktop/hackathon/PaddleOCR/ppstructure/pipline.ipynb Cell 2\u001b[0m line \u001b[0;36m4\n\u001b[1;32m      <a href='vscode-notebook-cell:/Users/binhnam/Desktop/hackathon/PaddleOCR/ppstructure/pipline.ipynb#W3sZmlsZQ%3D%3D?line=0'>1</a>\u001b[0m \u001b[39mfrom\u001b[39;00m \u001b[39mpredict_system\u001b[39;00m \u001b[39mimport\u001b[39;00m process\n\u001b[0;32m----> <a href='vscode-notebook-cell:/Users/binhnam/Desktop/hackathon/PaddleOCR/ppstructure/pipline.ipynb#W3sZmlsZQ%3D%3D?line=3'>4</a>\u001b[0m \u001b[39mprint\u001b[39m(process(os\u001b[39m.\u001b[39;49mpath\u001b[39m.\u001b[39;49mjoin(\u001b[39m'\u001b[39;49m\u001b[39mbienhieu\u001b[39;49m\u001b[39m'\u001b[39;49m, list_path[\u001b[39m0\u001b[39;49m])))\n",
      "File \u001b[0;32m~/Desktop/hackathon/PaddleOCR/ppstructure/predict_system.py:471\u001b[0m, in \u001b[0;36mprocess\u001b[0;34m(img_path)\u001b[0m\n\u001b[1;32m    469\u001b[0m \u001b[39mdef\u001b[39;00m \u001b[39mprocess\u001b[39m(img_path):\n\u001b[1;32m    470\u001b[0m     \u001b[39m# setup params\u001b[39;00m\n\u001b[0;32m--> 471\u001b[0m     args \u001b[39m=\u001b[39m parse_args()\n\u001b[1;32m    472\u001b[0m     args\u001b[39m.\u001b[39mdet_model_dir\u001b[39m=\u001b[39m\u001b[39m\"\u001b[39m\u001b[39minference/ch_PP-OCRv3_det_infer\u001b[39m\u001b[39m\"\u001b[39m\n",
      "File \u001b[0;32m~/Desktop/hackathon/PaddleOCR/ppstructure/utility.py:135\u001b[0m, in \u001b[0;36mparse_args\u001b[0;34m()\u001b[0m\n\u001b[1;32m    134\u001b[0m parser \u001b[39m=\u001b[39m init_args()\n\u001b[0;32m--> 135\u001b[0m \u001b[39mreturn\u001b[39;00m parser\u001b[39m.\u001b[39;49mparse_args()\n",
      "File \u001b[0;32m~/Applications/anaconda3/envs/hackathon/lib/python3.10/argparse.py:1833\u001b[0m, in \u001b[0;36mArgumentParser.parse_args\u001b[0;34m(self, args, namespace)\u001b[0m\n\u001b[1;32m   1832\u001b[0m \u001b[39mdef\u001b[39;00m \u001b[39mparse_args\u001b[39m(\u001b[39mself\u001b[39m, args\u001b[39m=\u001b[39m\u001b[39mNone\u001b[39;00m, namespace\u001b[39m=\u001b[39m\u001b[39mNone\u001b[39;00m):\n\u001b[0;32m-> 1833\u001b[0m     args, argv \u001b[39m=\u001b[39m \u001b[39mself\u001b[39;49m\u001b[39m.\u001b[39;49mparse_known_args(args, namespace)\n\u001b[1;32m   1834\u001b[0m     \u001b[39mif\u001b[39;00m argv:\n",
      "File \u001b[0;32m~/Applications/anaconda3/envs/hackathon/lib/python3.10/argparse.py:1869\u001b[0m, in \u001b[0;36mArgumentParser.parse_known_args\u001b[0;34m(self, args, namespace)\u001b[0m\n\u001b[1;32m   1868\u001b[0m         err \u001b[39m=\u001b[39m _sys\u001b[39m.\u001b[39mexc_info()[\u001b[39m1\u001b[39m]\n\u001b[0;32m-> 1869\u001b[0m         \u001b[39mself\u001b[39;49m\u001b[39m.\u001b[39;49merror(\u001b[39mstr\u001b[39;49m(err))\n\u001b[1;32m   1870\u001b[0m \u001b[39melse\u001b[39;00m:\n",
      "File \u001b[0;32m~/Applications/anaconda3/envs/hackathon/lib/python3.10/argparse.py:2594\u001b[0m, in \u001b[0;36mArgumentParser.error\u001b[0;34m(self, message)\u001b[0m\n\u001b[1;32m   2593\u001b[0m args \u001b[39m=\u001b[39m {\u001b[39m'\u001b[39m\u001b[39mprog\u001b[39m\u001b[39m'\u001b[39m: \u001b[39mself\u001b[39m\u001b[39m.\u001b[39mprog, \u001b[39m'\u001b[39m\u001b[39mmessage\u001b[39m\u001b[39m'\u001b[39m: message}\n\u001b[0;32m-> 2594\u001b[0m \u001b[39mself\u001b[39;49m\u001b[39m.\u001b[39;49mexit(\u001b[39m2\u001b[39;49m, _(\u001b[39m'\u001b[39;49m\u001b[39m%(prog)s\u001b[39;49;00m\u001b[39m: error: \u001b[39;49m\u001b[39m%(message)s\u001b[39;49;00m\u001b[39m\\n\u001b[39;49;00m\u001b[39m'\u001b[39;49m) \u001b[39m%\u001b[39;49m args)\n",
      "File \u001b[0;32m~/Applications/anaconda3/envs/hackathon/lib/python3.10/argparse.py:2581\u001b[0m, in \u001b[0;36mArgumentParser.exit\u001b[0;34m(self, status, message)\u001b[0m\n\u001b[1;32m   2580\u001b[0m     \u001b[39mself\u001b[39m\u001b[39m.\u001b[39m_print_message(message, _sys\u001b[39m.\u001b[39mstderr)\n\u001b[0;32m-> 2581\u001b[0m _sys\u001b[39m.\u001b[39;49mexit(status)\n",
      "\u001b[0;31mSystemExit\u001b[0m: 2",
      "\nDuring handling of the above exception, another exception occurred:\n",
      "\u001b[0;31mAttributeError\u001b[0m                            Traceback (most recent call last)",
      "    \u001b[0;31m[... skipping hidden 1 frame]\u001b[0m\n",
      "File \u001b[0;32m~/Applications/anaconda3/envs/hackathon/lib/python3.10/site-packages/IPython/core/interactiveshell.py:2145\u001b[0m, in \u001b[0;36mInteractiveShell.showtraceback\u001b[0;34m(self, exc_tuple, filename, tb_offset, exception_only, running_compiled_code)\u001b[0m\n\u001b[1;32m   2142\u001b[0m \u001b[39mif\u001b[39;00m exception_only:\n\u001b[1;32m   2143\u001b[0m     stb \u001b[39m=\u001b[39m [\u001b[39m'\u001b[39m\u001b[39mAn exception has occurred, use \u001b[39m\u001b[39m%\u001b[39m\u001b[39mtb to see \u001b[39m\u001b[39m'\u001b[39m\n\u001b[1;32m   2144\u001b[0m            \u001b[39m'\u001b[39m\u001b[39mthe full traceback.\u001b[39m\u001b[39m\\n\u001b[39;00m\u001b[39m'\u001b[39m]\n\u001b[0;32m-> 2145\u001b[0m     stb\u001b[39m.\u001b[39mextend(\u001b[39mself\u001b[39;49m\u001b[39m.\u001b[39;49mInteractiveTB\u001b[39m.\u001b[39;49mget_exception_only(etype,\n\u001b[1;32m   2146\u001b[0m                                                      value))\n\u001b[1;32m   2147\u001b[0m \u001b[39melse\u001b[39;00m:\n\u001b[1;32m   2149\u001b[0m     \u001b[39mdef\u001b[39;00m \u001b[39mcontains_exceptiongroup\u001b[39m(val):\n",
      "File \u001b[0;32m~/Applications/anaconda3/envs/hackathon/lib/python3.10/site-packages/IPython/core/ultratb.py:710\u001b[0m, in \u001b[0;36mListTB.get_exception_only\u001b[0;34m(self, etype, value)\u001b[0m\n\u001b[1;32m    702\u001b[0m \u001b[39mdef\u001b[39;00m \u001b[39mget_exception_only\u001b[39m(\u001b[39mself\u001b[39m, etype, value):\n\u001b[1;32m    703\u001b[0m \u001b[39m    \u001b[39m\u001b[39m\"\"\"Only print the exception type and message, without a traceback.\u001b[39;00m\n\u001b[1;32m    704\u001b[0m \n\u001b[1;32m    705\u001b[0m \u001b[39m    Parameters\u001b[39;00m\n\u001b[0;32m   (...)\u001b[0m\n\u001b[1;32m    708\u001b[0m \u001b[39m    value : exception value\u001b[39;00m\n\u001b[1;32m    709\u001b[0m \u001b[39m    \"\"\"\u001b[39;00m\n\u001b[0;32m--> 710\u001b[0m     \u001b[39mreturn\u001b[39;00m ListTB\u001b[39m.\u001b[39;49mstructured_traceback(\u001b[39mself\u001b[39;49m, etype, value)\n",
      "File \u001b[0;32m~/Applications/anaconda3/envs/hackathon/lib/python3.10/site-packages/IPython/core/ultratb.py:568\u001b[0m, in \u001b[0;36mListTB.structured_traceback\u001b[0;34m(self, etype, evalue, etb, tb_offset, context)\u001b[0m\n\u001b[1;32m    565\u001b[0m     chained_exc_ids\u001b[39m.\u001b[39madd(\u001b[39mid\u001b[39m(exception[\u001b[39m1\u001b[39m]))\n\u001b[1;32m    566\u001b[0m     chained_exceptions_tb_offset \u001b[39m=\u001b[39m \u001b[39m0\u001b[39m\n\u001b[1;32m    567\u001b[0m     out_list \u001b[39m=\u001b[39m (\n\u001b[0;32m--> 568\u001b[0m         \u001b[39mself\u001b[39;49m\u001b[39m.\u001b[39;49mstructured_traceback(\n\u001b[1;32m    569\u001b[0m             etype,\n\u001b[1;32m    570\u001b[0m             evalue,\n\u001b[1;32m    571\u001b[0m             (etb, chained_exc_ids),  \u001b[39m# type: ignore\u001b[39;49;00m\n\u001b[1;32m    572\u001b[0m             chained_exceptions_tb_offset,\n\u001b[1;32m    573\u001b[0m             context,\n\u001b[1;32m    574\u001b[0m         )\n\u001b[1;32m    575\u001b[0m         \u001b[39m+\u001b[39m chained_exception_message\n\u001b[1;32m    576\u001b[0m         \u001b[39m+\u001b[39m out_list)\n\u001b[1;32m    578\u001b[0m \u001b[39mreturn\u001b[39;00m out_list\n",
      "File \u001b[0;32m~/Applications/anaconda3/envs/hackathon/lib/python3.10/site-packages/IPython/core/ultratb.py:1454\u001b[0m, in \u001b[0;36mAutoFormattedTB.structured_traceback\u001b[0;34m(self, etype, evalue, etb, tb_offset, number_of_lines_of_context)\u001b[0m\n\u001b[1;32m   1452\u001b[0m \u001b[39melse\u001b[39;00m:\n\u001b[1;32m   1453\u001b[0m     \u001b[39mself\u001b[39m\u001b[39m.\u001b[39mtb \u001b[39m=\u001b[39m etb\n\u001b[0;32m-> 1454\u001b[0m \u001b[39mreturn\u001b[39;00m FormattedTB\u001b[39m.\u001b[39;49mstructured_traceback(\n\u001b[1;32m   1455\u001b[0m     \u001b[39mself\u001b[39;49m, etype, evalue, etb, tb_offset, number_of_lines_of_context\n\u001b[1;32m   1456\u001b[0m )\n",
      "File \u001b[0;32m~/Applications/anaconda3/envs/hackathon/lib/python3.10/site-packages/IPython/core/ultratb.py:1345\u001b[0m, in \u001b[0;36mFormattedTB.structured_traceback\u001b[0;34m(self, etype, value, tb, tb_offset, number_of_lines_of_context)\u001b[0m\n\u001b[1;32m   1342\u001b[0m mode \u001b[39m=\u001b[39m \u001b[39mself\u001b[39m\u001b[39m.\u001b[39mmode\n\u001b[1;32m   1343\u001b[0m \u001b[39mif\u001b[39;00m mode \u001b[39min\u001b[39;00m \u001b[39mself\u001b[39m\u001b[39m.\u001b[39mverbose_modes:\n\u001b[1;32m   1344\u001b[0m     \u001b[39m# Verbose modes need a full traceback\u001b[39;00m\n\u001b[0;32m-> 1345\u001b[0m     \u001b[39mreturn\u001b[39;00m VerboseTB\u001b[39m.\u001b[39;49mstructured_traceback(\n\u001b[1;32m   1346\u001b[0m         \u001b[39mself\u001b[39;49m, etype, value, tb, tb_offset, number_of_lines_of_context\n\u001b[1;32m   1347\u001b[0m     )\n\u001b[1;32m   1348\u001b[0m \u001b[39melif\u001b[39;00m mode \u001b[39m==\u001b[39m \u001b[39m'\u001b[39m\u001b[39mMinimal\u001b[39m\u001b[39m'\u001b[39m:\n\u001b[1;32m   1349\u001b[0m     \u001b[39mreturn\u001b[39;00m ListTB\u001b[39m.\u001b[39mget_exception_only(\u001b[39mself\u001b[39m, etype, value)\n",
      "File \u001b[0;32m~/Applications/anaconda3/envs/hackathon/lib/python3.10/site-packages/IPython/core/ultratb.py:1192\u001b[0m, in \u001b[0;36mVerboseTB.structured_traceback\u001b[0;34m(self, etype, evalue, etb, tb_offset, number_of_lines_of_context)\u001b[0m\n\u001b[1;32m   1183\u001b[0m \u001b[39mdef\u001b[39;00m \u001b[39mstructured_traceback\u001b[39m(\n\u001b[1;32m   1184\u001b[0m     \u001b[39mself\u001b[39m,\n\u001b[1;32m   1185\u001b[0m     etype: \u001b[39mtype\u001b[39m,\n\u001b[0;32m   (...)\u001b[0m\n\u001b[1;32m   1189\u001b[0m     number_of_lines_of_context: \u001b[39mint\u001b[39m \u001b[39m=\u001b[39m \u001b[39m5\u001b[39m,\n\u001b[1;32m   1190\u001b[0m ):\n\u001b[1;32m   1191\u001b[0m \u001b[39m    \u001b[39m\u001b[39m\"\"\"Return a nice text document describing the traceback.\"\"\"\u001b[39;00m\n\u001b[0;32m-> 1192\u001b[0m     formatted_exception \u001b[39m=\u001b[39m \u001b[39mself\u001b[39;49m\u001b[39m.\u001b[39;49mformat_exception_as_a_whole(etype, evalue, etb, number_of_lines_of_context,\n\u001b[1;32m   1193\u001b[0m                                                            tb_offset)\n\u001b[1;32m   1195\u001b[0m     colors \u001b[39m=\u001b[39m \u001b[39mself\u001b[39m\u001b[39m.\u001b[39mColors  \u001b[39m# just a shorthand + quicker name lookup\u001b[39;00m\n\u001b[1;32m   1196\u001b[0m     colorsnormal \u001b[39m=\u001b[39m colors\u001b[39m.\u001b[39mNormal  \u001b[39m# used a lot\u001b[39;00m\n",
      "File \u001b[0;32m~/Applications/anaconda3/envs/hackathon/lib/python3.10/site-packages/IPython/core/ultratb.py:1082\u001b[0m, in \u001b[0;36mVerboseTB.format_exception_as_a_whole\u001b[0;34m(self, etype, evalue, etb, number_of_lines_of_context, tb_offset)\u001b[0m\n\u001b[1;32m   1079\u001b[0m \u001b[39massert\u001b[39;00m \u001b[39misinstance\u001b[39m(tb_offset, \u001b[39mint\u001b[39m)\n\u001b[1;32m   1080\u001b[0m head \u001b[39m=\u001b[39m \u001b[39mself\u001b[39m\u001b[39m.\u001b[39mprepare_header(\u001b[39mstr\u001b[39m(etype), \u001b[39mself\u001b[39m\u001b[39m.\u001b[39mlong_header)\n\u001b[1;32m   1081\u001b[0m records \u001b[39m=\u001b[39m (\n\u001b[0;32m-> 1082\u001b[0m     \u001b[39mself\u001b[39;49m\u001b[39m.\u001b[39;49mget_records(etb, number_of_lines_of_context, tb_offset) \u001b[39mif\u001b[39;00m etb \u001b[39melse\u001b[39;00m []\n\u001b[1;32m   1083\u001b[0m )\n\u001b[1;32m   1085\u001b[0m frames \u001b[39m=\u001b[39m []\n\u001b[1;32m   1086\u001b[0m skipped \u001b[39m=\u001b[39m \u001b[39m0\u001b[39m\n",
      "File \u001b[0;32m~/Applications/anaconda3/envs/hackathon/lib/python3.10/site-packages/IPython/core/ultratb.py:1150\u001b[0m, in \u001b[0;36mVerboseTB.get_records\u001b[0;34m(self, etb, number_of_lines_of_context, tb_offset)\u001b[0m\n\u001b[1;32m   1148\u001b[0m \u001b[39mwhile\u001b[39;00m cf \u001b[39mis\u001b[39;00m \u001b[39mnot\u001b[39;00m \u001b[39mNone\u001b[39;00m:\n\u001b[1;32m   1149\u001b[0m     \u001b[39mtry\u001b[39;00m:\n\u001b[0;32m-> 1150\u001b[0m         mod \u001b[39m=\u001b[39m inspect\u001b[39m.\u001b[39mgetmodule(cf\u001b[39m.\u001b[39;49mtb_frame)\n\u001b[1;32m   1151\u001b[0m         \u001b[39mif\u001b[39;00m mod \u001b[39mis\u001b[39;00m \u001b[39mnot\u001b[39;00m \u001b[39mNone\u001b[39;00m:\n\u001b[1;32m   1152\u001b[0m             mod_name \u001b[39m=\u001b[39m mod\u001b[39m.\u001b[39m\u001b[39m__name__\u001b[39m\n",
      "\u001b[0;31mAttributeError\u001b[0m: 'tuple' object has no attribute 'tb_frame'"
     ]
    }
   ],
   "source": [
    "from predict_system import process\n",
    "\n",
    "\n",
    "print(process(os.path.join('bienhieu', '393365380_1473462636721277_8581821530686421176_n.jpg')))"
   ]
  },
  {
   "cell_type": "code",
   "execution_count": null,
   "metadata": {},
   "outputs": [
    {
     "name": "stdout",
     "output_type": "stream",
     "text": [
      "ChatCompletionMessage(content=\"I'm AI, a chatbot so fine,\\nHere to assist you, all the time!\\nI'll respond with rhymes, day and night,\\nTo make our conversations feel just right!\", role='assistant', function_call=None, tool_calls=None)\n"
     ]
    }
   ],
   "source": [
    "# Example: reuse your existing OpenAI setup\n",
    "from openai import OpenAI\n",
    "\n",
    "# Point to the local server\n",
    "client = OpenAI(base_url=\"http://localhost:1234/v1\", api_key=\"lm-studio\")\n",
    "\n",
    "completion = client.chat.completions.create(\n",
    "  model=\"lmstudio-community/Meta-Llama-3-8B-Instruct-GGUF\",\n",
    "  messages=[\n",
    "    {\"role\": \"system\", \"content\": \"Always answer in rhymes.\"},\n",
    "    {\"role\": \"user\", \"content\": \"Introduce yourself.\"}\n",
    "  ],\n",
    "  temperature=0.7,\n",
    ")\n",
    "\n",
    "print(completion.choices[0].message)"
   ]
  },
  {
   "cell_type": "code",
   "execution_count": null,
   "metadata": {},
   "outputs": [
    {
     "data": {
      "text/plain": [
       "\"I'm AI, a chatbot so fine,\\\\nHere to assist you, all the time!\\\\nI'll respond with rhymes, day and night,\\\\nTo make our conversations feel just right!\""
      ]
     },
     "execution_count": 4,
     "metadata": {},
     "output_type": "execute_result"
    }
   ],
   "source": [
    "content = str(completion.choices[0].message)\n",
    "import re\n",
    "extracted_content = re.search(r'content=\"([^\"]+)\"', content).group(1)\n",
    "extracted_content"
   ]
  },
  {
   "cell_type": "code",
   "execution_count": 11,
   "metadata": {},
   "outputs": [],
   "source": [
    "import textdistance"
   ]
  },
  {
   "cell_type": "code",
   "execution_count": null,
   "metadata": {},
   "outputs": [
    {
     "data": {
      "text/plain": [
       "float"
      ]
     },
     "execution_count": 9,
     "metadata": {},
     "output_type": "execute_result"
    }
   ],
   "source": [
    "type(a)"
   ]
  },
  {
   "cell_type": "code",
   "execution_count": 13,
   "metadata": {},
   "outputs": [
    {
     "data": {
      "text/plain": [
       "0.125"
      ]
     },
     "execution_count": 13,
     "metadata": {},
     "output_type": "execute_result"
    }
   ],
   "source": [
    "a = textdistance.levenshtein.normalized_similarity('heineken', 'nam')\n",
    "a"
   ]
  }
 ],
 "metadata": {
  "kernelspec": {
   "display_name": "hackathon",
   "language": "python",
   "name": "python3"
  },
  "language_info": {
   "codemirror_mode": {
    "name": "ipython",
    "version": 3
   },
   "file_extension": ".py",
   "mimetype": "text/x-python",
   "name": "python",
   "nbconvert_exporter": "python",
   "pygments_lexer": "ipython3",
   "version": "3.10.13"
  },
  "orig_nbformat": 4
 },
 "nbformat": 4,
 "nbformat_minor": 2
}
